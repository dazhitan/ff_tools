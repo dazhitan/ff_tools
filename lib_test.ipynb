{
 "cells": [
  {
   "cell_type": "code",
   "execution_count": 75,
   "metadata": {},
   "outputs": [
    {
     "name": "stdout",
     "output_type": "stream",
     "text": [
      "The charge of N in residue ALA is set to be 5.000000\n"
     ]
    },
    {
     "data": {
      "text/plain": [
       "5.278591999999999"
      ]
     },
     "execution_count": 75,
     "metadata": {},
     "output_type": "execute_result"
    }
   ],
   "source": [
    "\"\"\"\n",
    "import amberlib\n",
    "reload(amberlib)\n",
    "from amberlib import AmberLib\n",
    "import re\n",
    "\n",
    "test = AmberLib('allamino_stxamber.lib')\n",
    "\n",
    "test.loadLib()\n",
    "#test.setAtomType('ALA', 'NS', 'NS')\n",
    "test.setAtomCharge('ALA  ', 'N ', 5)\n",
    "#test['ALA'].keys()\n",
    "#test['ALA']['childsequence']\n",
    "\n",
    "#test.printLib('test.lib')\n",
    "#%cat test.lib\n",
    "#test['ALA']['atoms']['dbl chg'].sum()\n",
    "#print test['ALA']['atomspertinfo']\n",
    "\n",
    "#print '!'\n",
    "test.calcNetCharge('ALA')\n",
    "\"\"\""
   ]
  },
  {
   "cell_type": "code",
   "execution_count": 58,
   "metadata": {},
   "outputs": [
    {
     "data": {
      "text/plain": [
       "['name', 'type', 'typex', 'resx', 'flags', 'seq', 'elmnt', 'chg']"
      ]
     },
     "execution_count": 58,
     "metadata": {},
     "output_type": "execute_result"
    }
   ],
   "source": [
    "[re.search('\\s(\\w+)', x).groups()[0] for x in l]"
   ]
  },
  {
   "cell_type": "code",
   "execution_count": 16,
   "metadata": {},
   "outputs": [
    {
     "data": {
      "text/plain": [
       "'\"ALA\"'"
      ]
     },
     "execution_count": 16,
     "metadata": {},
     "output_type": "execute_result"
    }
   ],
   "source": [
    "test.blocklist[0].split('\\n')[1:-1][0].replace(' ', '')"
   ]
  },
  {
   "cell_type": "code",
   "execution_count": 39,
   "metadata": {
    "collapsed": true
   },
   "outputs": [],
   "source": [
    "from UserDict import IterableUserDict"
   ]
  },
  {
   "cell_type": "code",
   "execution_count": 60,
   "metadata": {},
   "outputs": [
    {
     "data": {
      "text/plain": [
       "True"
      ]
     },
     "execution_count": 60,
     "metadata": {},
     "output_type": "execute_result"
    }
   ],
   "source": [
    "isinstance(5, (float, int))"
   ]
  },
  {
   "cell_type": "code",
   "execution_count": 76,
   "metadata": {
    "collapsed": true
   },
   "outputs": [],
   "source": [
    "import desmondff\n",
    "reload(desmondff)\n",
    "from desmondff import DesmondFF\n",
    "\n",
    "test = DesmondFF('stx-amber_protein_viparr/')\n",
    "test.keys()"
   ]
  },
  {
   "cell_type": "code",
   "execution_count": null,
   "metadata": {
    "collapsed": true
   },
   "outputs": [],
   "source": []
  }
 ],
 "metadata": {
  "kernelspec": {
   "display_name": "Python 2",
   "language": "python",
   "name": "python2"
  },
  "language_info": {
   "codemirror_mode": {
    "name": "ipython",
    "version": 2
   },
   "file_extension": ".py",
   "mimetype": "text/x-python",
   "name": "python",
   "nbconvert_exporter": "python",
   "pygments_lexer": "ipython2",
   "version": "2.7.13"
  }
 },
 "nbformat": 4,
 "nbformat_minor": 2
}
