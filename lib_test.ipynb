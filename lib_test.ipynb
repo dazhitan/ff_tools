{
 "cells": [
  {
   "cell_type": "code",
   "execution_count": 8,
   "metadata": {},
   "outputs": [
    {
     "name": "stdout",
     "output_type": "stream",
     "text": [
      "!!index array str\r\n",
      "\"ALA\"\r\n",
      "\"ARG\"\r\n",
      "\"ASH\"\r\n",
      "\"ASN\"\r\n",
      "\"ASP\"\r\n",
      "\"CYM\"\r\n",
      "\"CYS\"\r\n",
      "\"CYX\"\r\n",
      "\"GLH\"\r\n",
      "\"GLN\"\r\n",
      "\"GLU\"\r\n",
      "\"GLY\"\r\n",
      "\"HID\"\r\n",
      "\"HIE\"\r\n",
      "\"HIP\"\r\n",
      "\"HYP\"\r\n",
      "\"ILE\"\r\n",
      "\"LEU\"\r\n",
      "\"LYN\"\r\n",
      "\"LYS\"\r\n",
      "\"MET\"\r\n",
      "\"PHE\"\r\n",
      "\"PRO\"\r\n",
      "\"SER\"\r\n",
      "\"THR\"\r\n",
      "\"TRP\"\r\n",
      "\"TYR\"\r\n",
      "\"VAL\"\r\n",
      "\"ACE\"\r\n",
      "\"NALA\"\r\n",
      "\"NARG\"\r\n",
      "\"NASN\"\r\n",
      "\"NASP\"\r\n",
      "\"NCYS\"\r\n",
      "\"NCYX\"\r\n",
      "\"NGLN\"\r\n",
      "\"NGLU\"\r\n",
      "\"NGLY\"\r\n",
      "\"NHID\"\r\n",
      "\"NHIE\"\r\n",
      "\"NHIP\"\r\n",
      "\"NILE\"\r\n",
      "\"NLEU\"\r\n",
      "\"NLYS\"\r\n",
      "\"NMET\"\r\n",
      "\"NPHE\"\r\n",
      "\"NPRO\"\r\n",
      "\"NSER\"\r\n",
      "\"NTHR\"\r\n",
      "\"NTRP\"\r\n",
      "\"NTYR\"\r\n",
      "\"NVAL\"\r\n",
      "\"CALA\"\r\n",
      "\"CARG\"\r\n",
      "\"CASN\"\r\n",
      "\"CASP\"\r\n",
      "\"CCYS\"\r\n",
      "\"CCYX\"\r\n",
      "\"CGLN\"\r\n",
      "\"CGLU\"\r\n",
      "\"CGLY\"\r\n",
      "\"CHID\"\r\n",
      "\"CHIE\"\r\n",
      "\"CHIP\"\r\n",
      "\"CILE\"\r\n",
      "\"CLEU\"\r\n",
      "\"CLYS\"\r\n",
      "\"CMET\"\r\n",
      "\"CPHE\"\r\n",
      "\"CPRO\"\r\n",
      "\"CSER\"\r\n",
      "\"CTHR\"\r\n",
      "\"CTRP\"\r\n",
      "\"CTYR\"\r\n",
      "\"CVAL\"\r\n",
      "\"NHE\"\r\n",
      "\"NME\"\r\n"
     ]
    }
   ],
   "source": [
    "import amberlib\n",
    "reload(amberlib)\n",
    "from amberlib import AmberLib\n",
    "import re\n",
    "\n",
    "test = AmberLib()\n",
    "test.loadLib('allamino_stxamber.lib')\n",
    "#test['ALA'].keys()\n",
    "#test['ALA']['childsequence']\n",
    "test.printLib('test.lib')\n",
    "%cat test.lib"
   ]
  },
  {
   "cell_type": "code",
   "execution_count": 58,
   "metadata": {},
   "outputs": [
    {
     "data": {
      "text/plain": [
       "['name', 'type', 'typex', 'resx', 'flags', 'seq', 'elmnt', 'chg']"
      ]
     },
     "execution_count": 58,
     "metadata": {},
     "output_type": "execute_result"
    }
   ],
   "source": [
    "[re.search('\\s(\\w+)', x).groups()[0] for x in l]"
   ]
  },
  {
   "cell_type": "code",
   "execution_count": 16,
   "metadata": {},
   "outputs": [
    {
     "data": {
      "text/plain": [
       "'\"ALA\"'"
      ]
     },
     "execution_count": 16,
     "metadata": {},
     "output_type": "execute_result"
    }
   ],
   "source": [
    "test.blocklist[0].split('\\n')[1:-1][0].replace(' ', '')"
   ]
  },
  {
   "cell_type": "code",
   "execution_count": 39,
   "metadata": {
    "collapsed": true
   },
   "outputs": [],
   "source": [
    "from UserDict import IterableUserDict"
   ]
  },
  {
   "cell_type": "code",
   "execution_count": null,
   "metadata": {
    "collapsed": true
   },
   "outputs": [],
   "source": []
  }
 ],
 "metadata": {
  "kernelspec": {
   "display_name": "Python 2",
   "language": "python",
   "name": "python2"
  },
  "language_info": {
   "codemirror_mode": {
    "name": "ipython",
    "version": 2
   },
   "file_extension": ".py",
   "mimetype": "text/x-python",
   "name": "python",
   "nbconvert_exporter": "python",
   "pygments_lexer": "ipython2",
   "version": "2.7.13"
  }
 },
 "nbformat": 4,
 "nbformat_minor": 2
}
