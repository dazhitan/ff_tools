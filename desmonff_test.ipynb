{
 "cells": [
  {
   "cell_type": "code",
   "execution_count": 51,
   "metadata": {},
   "outputs": [
    {
     "data": {
      "text/plain": [
       "[u'YY']"
      ]
     },
     "execution_count": 51,
     "metadata": {},
     "output_type": "execute_result"
    }
   ],
   "source": [
    "import desmondff\n",
    "reload(desmondff)\n",
    "from desmondff import DesmondFF\n",
    "\n",
    "test = DesmondFF('stx_amber_protein_viparr/')\n",
    "#test._find_atomtype_inconsistency()\n",
    "test['vdw1'][0]['type']"
   ]
  },
  {
   "cell_type": "code",
   "execution_count": 24,
   "metadata": {},
   "outputs": [
    {
     "name": "stdout",
     "output_type": "stream",
     "text": [
      "[u'H1', u'YY', u'C', u'O']\n",
      "[u'H1', u'WW', u'C', u'O']\n",
      "[u'H1', u'VV', u'C', u'O']\n",
      "[u'H1', u'TT', u'C', u'O']\n",
      "[u'H1', u'TT', u'CT', u'OH']\n",
      "[u'H1', u'SS', u'C', u'O']\n",
      "[u'H1', u'SS', u'CT', u'SO']\n",
      "[u'H1', u'RR', u'C', u'O']\n",
      "[u'H1', u'QQ', u'C', u'O']\n",
      "[u'H1', u'PP', u'C', u'O']\n",
      "[u'H1', u'NN', u'C', u'O']\n",
      "[u'H1', u'MM', u'C', u'O']\n",
      "[u'H1', u'LL', u'C', u'O']\n",
      "[u'H1', u'KK', u'C', u'O']\n",
      "[u'H1', u'II', u'C', u'O']\n",
      "[u'H1', u'HE', u'C', u'O']\n",
      "[u'H1', u'GG', u'C', u'O']\n",
      "[u'H1', u'FF', u'C', u'O']\n",
      "[u'H1', u'EE', u'C', u'O']\n",
      "[u'H1', u'DD', u'C', u'O']\n",
      "[u'H1', u'CS', u'C', u'O']\n",
      "[u'H1', u'AA', u'C', u'O']\n",
      "[u'H1', u'CT', u'CT', u'SO']\n",
      "[u'H1', u'C8', u'C', u'O']\n",
      "[u'H1', u'CT', u'C', u'O']\n",
      "[u'H1', u'CT', u'CT', u'OS']\n",
      "[u'H1', u'CT', u'CT', u'OH']\n",
      "[u'H1', u'CT', u'CT', u'F']\n",
      "[u'H1', u'CT', u'CT', u'Cl']\n",
      "[u'H1', u'CT', u'CT', u'Br']\n",
      "[u'H1', u'CT', u'NT', u'LP']\n",
      "[u'H1', u'CT', u'OH', u'LP']\n",
      "[u'H1', u'CT', u'OS', u'LP']\n",
      "[u'H1', u'C7', u'C', u'O']\n"
     ]
    }
   ],
   "source": [
    "for term in test['dihedral_trig']:\n",
    "    if 'H1' in term['type']:\n",
    "        print term['type']"
   ]
  },
  {
   "cell_type": "code",
   "execution_count": 20,
   "metadata": {
    "collapsed": true
   },
   "outputs": [],
   "source": [
    "line = '123\\n'"
   ]
  },
  {
   "cell_type": "code",
   "execution_count": 21,
   "metadata": {},
   "outputs": [
    {
     "data": {
      "text/plain": [
       "'123'"
      ]
     },
     "execution_count": 21,
     "metadata": {},
     "output_type": "execute_result"
    }
   ],
   "source": [
    "line.rstrip()"
   ]
  },
  {
   "cell_type": "code",
   "execution_count": 22,
   "metadata": {},
   "outputs": [
    {
     "data": {
      "text/plain": [
       "'123\\n'"
      ]
     },
     "execution_count": 22,
     "metadata": {},
     "output_type": "execute_result"
    }
   ],
   "source": [
    "line"
   ]
  },
  {
   "cell_type": "code",
   "execution_count": 26,
   "metadata": {},
   "outputs": [
    {
     "data": {
      "text/plain": [
       "u'/Users/dazhi/work/ff_tools'"
      ]
     },
     "execution_count": 26,
     "metadata": {},
     "output_type": "execute_result"
    }
   ],
   "source": [
    "%pwd"
   ]
  },
  {
   "cell_type": "code",
   "execution_count": null,
   "metadata": {
    "collapsed": true
   },
   "outputs": [],
   "source": []
  }
 ],
 "metadata": {
  "kernelspec": {
   "display_name": "Python 2",
   "language": "python",
   "name": "python2"
  },
  "language_info": {
   "codemirror_mode": {
    "name": "ipython",
    "version": 2
   },
   "file_extension": ".py",
   "mimetype": "text/x-python",
   "name": "python",
   "nbconvert_exporter": "python",
   "pygments_lexer": "ipython2",
   "version": "2.7.13"
  }
 },
 "nbformat": 4,
 "nbformat_minor": 2
}
